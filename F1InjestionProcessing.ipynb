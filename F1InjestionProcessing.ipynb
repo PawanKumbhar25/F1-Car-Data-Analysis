{
 "cells": [
  {
   "cell_type": "markdown",
   "metadata": {
    "id": "6ko-8X4LXXJb"
   },
   "source": [
    "# Formula 1 Grand Prix result prediction"
   ]
  },
  {
   "cell_type": "markdown",
   "metadata": {
    "id": "59hmopvQXXJi"
   },
   "source": [
    "## This project is aimed towards predicting the future F1 GP winners based on the drivers, constructors or both\n",
    "### Things to keep in mind\n",
    "\n",
    "Before begining the project we need to understand the history of F1 and the diffrent eras in which a certain driver or constructor dominated the whole grid. Here are some important eras of F1 after 2010.  \n",
    "\n",
    "* 1994-2009 Schumacher (Scuderia Ferrari)\n",
    "* 2007-2010 Alonso (Renault,Scuderia Ferrari)\n",
    "* 2011-2013 Vettle (Redbull Racing)\n",
    "* 2014-Present Hamilton (Mercedes-Benz)\n",
    "\n",
    "F1 Constructors performance are largely dependent on the FIA techinical regulation for the season after the 2013 season new engine regulation were made (Hybrid era) Mercedes-Benz are most dominat team since followed bu Redbull Racing and Scuderia Ferrari. Rules are set to change for 2022 so whatever analysis made here will not apply for 2022 season and so far. only data after 2010 will be considered in the following analysis."
   ]
  },
  {
   "cell_type": "markdown",
   "metadata": {
    "id": "KgyXQJJ_XXJm"
   },
   "source": [
    "## Create spark context"
   ]
  },
  {
   "cell_type": "markdown",
   "metadata": {
    "id": "NBAqIkbec2so"
   },
   "source": []
  },
  {
   "cell_type": "code",
   "execution_count": 1,
   "metadata": {
    "colab": {
     "base_uri": "https://localhost:8080/"
    },
    "executionInfo": {
     "elapsed": 48451,
     "status": "ok",
     "timestamp": 1738912790523,
     "user": {
      "displayName": "Shruti Bhabad",
      "userId": "01974618232617039234"
     },
     "user_tz": -330
    },
    "id": "6lG23pamqtU9",
    "outputId": "c07fd53c-cb68-47d8-f49b-21333d11cb00"
   },
   "outputs": [
    {
     "name": "stdout",
     "output_type": "stream",
     "text": [
      "Mounted at /content/drive\n"
     ]
    }
   ],
   "source": [
    "from google.colab import drive\n",
    "drive.mount('/content/drive')"
   ]
  },
  {
   "cell_type": "code",
   "execution_count": 2,
   "metadata": {
    "executionInfo": {
     "elapsed": 12106,
     "status": "ok",
     "timestamp": 1738912802614,
     "user": {
      "displayName": "Shruti Bhabad",
      "userId": "01974618232617039234"
     },
     "user_tz": -330
    },
    "id": "D1377z1tXXJo"
   },
   "outputs": [],
   "source": [
    "#Entrypoint 2.x\n",
    "from pyspark.sql import SparkSession\n",
    "from pyspark.sql.types import *\n",
    "from pyspark.sql.functions import *\n",
    "spark = SparkSession.builder.config(\"spark.sql.shuffle.partitions\", \"2\").appName(\"InjestionProcessing\").master(\"local[2]\").getOrCreate()\n",
    "\n",
    "# On yarn:\n",
    "# spark = SparkSession.builder.appName(\"Spark SQL basic example\").enableHiveSupport().master(\"yarn\").getOrCreate()\n",
    "# specify .master(\"yarn\")\n",
    "\n",
    "sc = spark.sparkContext"
   ]
  },
  {
   "cell_type": "markdown",
   "metadata": {
    "id": "BQKNlkB6XXJq"
   },
   "source": [
    "## Read files"
   ]
  },
  {
   "cell_type": "code",
   "execution_count": 3,
   "metadata": {
    "executionInfo": {
     "elapsed": 20090,
     "status": "ok",
     "timestamp": 1738912822705,
     "user": {
      "displayName": "Shruti Bhabad",
      "userId": "01974618232617039234"
     },
     "user_tz": -330
    },
    "id": "orlMPCDOXXJr"
   },
   "outputs": [],
   "source": [
    "data = \"/content/drive/MyDrive/DBDA_PROJECT/Formula1DataAnalytics-main/Main/data\"\n",
    "results = spark.read.option(\"header\", True).csv(f\"{data}/results.csv\")\n",
    "races = spark.read.option(\"header\", True).csv(f\"{data}/races.csv\")\n",
    "qualifying = spark.read.option(\"header\", True).csv(f\"{data}/qualifying.csv\")\n",
    "drivers = spark.read.option(\"header\", True).csv(f\"{data}/drivers.csv\")\n",
    "constructors = spark.read.option(\"header\", True).csv(f\"{data}/constructors.csv\")\n",
    "circuits = spark.read.option(\"header\", True).csv(f\"{data}/circuits.csv\")"
   ]
  },
  {
   "cell_type": "markdown",
   "metadata": {
    "id": "blIfG7iJXXJs"
   },
   "source": [
    "# Rename columns for better understanding"
   ]
  },
  {
   "cell_type": "code",
   "execution_count": 4,
   "metadata": {
    "colab": {
     "base_uri": "https://localhost:8080/"
    },
    "executionInfo": {
     "elapsed": 41,
     "status": "ok",
     "timestamp": 1738912822757,
     "user": {
      "displayName": "Shruti Bhabad",
      "userId": "01974618232617039234"
     },
     "user_tz": -330
    },
    "id": "0dIp7dC8XXJs",
    "outputId": "a3653027-2f2f-4984-a6b1-72442086e4db"
   },
   "outputs": [
    {
     "data": {
      "text/plain": [
       "['resultId',\n",
       " 'raceId',\n",
       " 'driverId',\n",
       " 'constructorId',\n",
       " 'number',\n",
       " 'grid',\n",
       " 'position',\n",
       " 'positionText',\n",
       " 'positionOrder',\n",
       " 'points',\n",
       " 'laps',\n",
       " 'time',\n",
       " 'milliseconds',\n",
       " 'fastestLap',\n",
       " 'rank',\n",
       " 'fastestLapTime',\n",
       " 'fastestLapSpeed',\n",
       " 'statusId']"
      ]
     },
     "execution_count": 4,
     "metadata": {},
     "output_type": "execute_result"
    }
   ],
   "source": [
    "results.columns"
   ]
  },
  {
   "cell_type": "code",
   "execution_count": 5,
   "metadata": {
    "executionInfo": {
     "elapsed": 261,
     "status": "ok",
     "timestamp": 1738912823024,
     "user": {
      "displayName": "Shruti Bhabad",
      "userId": "01974618232617039234"
     },
     "user_tz": -330
    },
    "id": "Meqko7e7XXJt"
   },
   "outputs": [],
   "source": [
    "results = results.withColumnRenamed(\"resultId\", \"result_id\").withColumnRenamed(\"raceId\", \"race_id\").withColumnRenamed(\"constructorId\", \"constructor_id\").withColumnRenamed(\"statusId\", \"status_id\").withColumnRenamed(\"number\", \"results_number\").withColumnRenamed(\"time\", \"results_time\").withColumnRenamed(\"driverId\", \"driver_id\").withColumnRenamed(\"position\", \"result_position\")"
   ]
  },
  {
   "cell_type": "code",
   "execution_count": 6,
   "metadata": {
    "colab": {
     "base_uri": "https://localhost:8080/"
    },
    "executionInfo": {
     "elapsed": 19,
     "status": "ok",
     "timestamp": 1738912823044,
     "user": {
      "displayName": "Shruti Bhabad",
      "userId": "01974618232617039234"
     },
     "user_tz": -330
    },
    "id": "rMVNEgV5XXJt",
    "outputId": "5fcec797-377c-4e5e-8ebd-e41caa3a7132"
   },
   "outputs": [
    {
     "data": {
      "text/plain": [
       "['raceId', 'year', 'round', 'circuitId', 'name', 'date', 'time', 'url']"
      ]
     },
     "execution_count": 6,
     "metadata": {},
     "output_type": "execute_result"
    }
   ],
   "source": [
    "races.columns"
   ]
  },
  {
   "cell_type": "code",
   "execution_count": 7,
   "metadata": {
    "executionInfo": {
     "elapsed": 111,
     "status": "ok",
     "timestamp": 1738912823139,
     "user": {
      "displayName": "Shruti Bhabad",
      "userId": "01974618232617039234"
     },
     "user_tz": -330
    },
    "id": "ZTsCGVr4XXJt"
   },
   "outputs": [],
   "source": [
    "races = races.withColumnRenamed(\"raceId\", \"race_id\").withColumnRenamed(\"circuitId\", \"circuit_id\").withColumnRenamed(\"url\", \"race_url\").withColumnRenamed(\"time\", \"race_time\").withColumnRenamed(\"name\", \"race_name\").withColumnRenamed(\"raceId\", \"race_id\").withColumnRenamed(\"circuitId\", \"circuit_id\")"
   ]
  },
  {
   "cell_type": "code",
   "execution_count": 8,
   "metadata": {
    "colab": {
     "base_uri": "https://localhost:8080/"
    },
    "executionInfo": {
     "elapsed": 3,
     "status": "ok",
     "timestamp": 1738912823143,
     "user": {
      "displayName": "Shruti Bhabad",
      "userId": "01974618232617039234"
     },
     "user_tz": -330
    },
    "id": "cKVtSI81XXJu",
    "outputId": "65aeac45-ad0b-433f-891b-a5af872a4f65"
   },
   "outputs": [
    {
     "data": {
      "text/plain": [
       "['qualifyId',\n",
       " 'raceId',\n",
       " 'driverId',\n",
       " 'constructorId',\n",
       " 'number',\n",
       " 'position',\n",
       " 'q1',\n",
       " 'q2',\n",
       " 'q3']"
      ]
     },
     "execution_count": 8,
     "metadata": {},
     "output_type": "execute_result"
    }
   ],
   "source": [
    "qualifying.columns"
   ]
  },
  {
   "cell_type": "code",
   "execution_count": 9,
   "metadata": {
    "executionInfo": {
     "elapsed": 111,
     "status": "ok",
     "timestamp": 1738912823258,
     "user": {
      "displayName": "Shruti Bhabad",
      "userId": "01974618232617039234"
     },
     "user_tz": -330
    },
    "id": "E6UWl4owXXJu"
   },
   "outputs": [],
   "source": [
    "qualifying = qualifying.withColumnRenamed(\"number\", \"qualifying_number\").withColumnRenamed(\"qualifyingId\", \"qualifying_id\").withColumnRenamed(\"raceId\", \"race_id\").withColumnRenamed(\"driverId\", \"driver_id\").withColumnRenamed(\"constructorId\", \"constructor_id\").withColumnRenamed(\"position\", \"qualifying_position\")"
   ]
  },
  {
   "cell_type": "code",
   "execution_count": 10,
   "metadata": {
    "colab": {
     "base_uri": "https://localhost:8080/"
    },
    "executionInfo": {
     "elapsed": 23,
     "status": "ok",
     "timestamp": 1738912823282,
     "user": {
      "displayName": "Shruti Bhabad",
      "userId": "01974618232617039234"
     },
     "user_tz": -330
    },
    "id": "wPvJqt9kXXJv",
    "outputId": "0412cc2a-371f-40f5-8b76-b8077ead538c"
   },
   "outputs": [
    {
     "data": {
      "text/plain": [
       "['driverId',\n",
       " 'driverRef',\n",
       " 'number',\n",
       " 'code',\n",
       " 'forename',\n",
       " 'surname',\n",
       " 'dob',\n",
       " 'nationality',\n",
       " 'url']"
      ]
     },
     "execution_count": 10,
     "metadata": {},
     "output_type": "execute_result"
    }
   ],
   "source": [
    "drivers.columns"
   ]
  },
  {
   "cell_type": "code",
   "execution_count": 11,
   "metadata": {
    "executionInfo": {
     "elapsed": 68,
     "status": "ok",
     "timestamp": 1738912823331,
     "user": {
      "displayName": "Shruti Bhabad",
      "userId": "01974618232617039234"
     },
     "user_tz": -330
    },
    "id": "2-Bn97D4XXJv"
   },
   "outputs": [],
   "source": [
    "drivers = drivers.withColumnRenamed(\"number\", \"driver_number\").withColumnRenamed(\"nationality\", \"driver_nationality\").withColumnRenamed(\"url\", \"driver_url\").withColumnRenamed(\"driverId\", \"driver_id\").withColumnRenamed(\"driverRef\", \"driver_ref\")"
   ]
  },
  {
   "cell_type": "code",
   "execution_count": 12,
   "metadata": {
    "colab": {
     "base_uri": "https://localhost:8080/"
    },
    "executionInfo": {
     "elapsed": 11,
     "status": "ok",
     "timestamp": 1738912823343,
     "user": {
      "displayName": "Shruti Bhabad",
      "userId": "01974618232617039234"
     },
     "user_tz": -330
    },
    "id": "Mq3SLIlzXXJv",
    "outputId": "67d991ca-75fa-4acf-8cf3-72252c2ce2bc"
   },
   "outputs": [
    {
     "data": {
      "text/plain": [
       "['constructorId', 'constructorRef', 'name', 'nationality', 'url']"
      ]
     },
     "execution_count": 12,
     "metadata": {},
     "output_type": "execute_result"
    }
   ],
   "source": [
    "constructors.columns"
   ]
  },
  {
   "cell_type": "code",
   "execution_count": 13,
   "metadata": {
    "executionInfo": {
     "elapsed": 50,
     "status": "ok",
     "timestamp": 1738912823392,
     "user": {
      "displayName": "Shruti Bhabad",
      "userId": "01974618232617039234"
     },
     "user_tz": -330
    },
    "id": "Mu5A-GMKXXJv"
   },
   "outputs": [],
   "source": [
    "constructors = constructors.withColumnRenamed(\"name\", \"constructor_name\").withColumnRenamed(\"nationality\", \"constructor_nationality\").withColumnRenamed(\"url\", \"constructor_url\").withColumnRenamed(\"constructorId\", \"constructor_id\").withColumnRenamed(\"constructorRef\", \"constructor_ref\")"
   ]
  },
  {
   "cell_type": "code",
   "execution_count": 14,
   "metadata": {
    "colab": {
     "base_uri": "https://localhost:8080/"
    },
    "executionInfo": {
     "elapsed": 16,
     "status": "ok",
     "timestamp": 1738912823409,
     "user": {
      "displayName": "Shruti Bhabad",
      "userId": "01974618232617039234"
     },
     "user_tz": -330
    },
    "id": "MWkgsqRyXXJv",
    "outputId": "fa35ddf6-3be2-43a5-a27e-5792a8ce734d"
   },
   "outputs": [
    {
     "data": {
      "text/plain": [
       "['circuitId',\n",
       " 'circuitRef',\n",
       " 'name',\n",
       " 'location',\n",
       " 'country',\n",
       " 'lat',\n",
       " 'lng',\n",
       " 'alt',\n",
       " 'url']"
      ]
     },
     "execution_count": 14,
     "metadata": {},
     "output_type": "execute_result"
    }
   ],
   "source": [
    "circuits.columns"
   ]
  },
  {
   "cell_type": "code",
   "execution_count": 15,
   "metadata": {
    "executionInfo": {
     "elapsed": 24,
     "status": "ok",
     "timestamp": 1738912823457,
     "user": {
      "displayName": "Shruti Bhabad",
      "userId": "01974618232617039234"
     },
     "user_tz": -330
    },
    "id": "ut-xuzXcXXJv"
   },
   "outputs": [],
   "source": [
    "circuits = circuits.withColumnRenamed(\"circuitId\", \"circuit_id\").withColumnRenamed(\"circuitRef\", \"circuit_ref\").withColumnRenamed(\"name\", \"circuit_name\").withColumnRenamed(\"location\", \"circuit_location\").withColumnRenamed(\"country\", \"circuit_country\").withColumnRenamed(\"url\", \"circuit_url\")"
   ]
  },
  {
   "cell_type": "markdown",
   "metadata": {
    "id": "X-rIqs6EXXJw"
   },
   "source": [
    "## Join DataFrames to create one"
   ]
  },
  {
   "cell_type": "code",
   "execution_count": 16,
   "metadata": {
    "executionInfo": {
     "elapsed": 102,
     "status": "ok",
     "timestamp": 1738912823576,
     "user": {
      "displayName": "Shruti Bhabad",
      "userId": "01974618232617039234"
     },
     "user_tz": -330
    },
    "id": "hgFKBNs_XXJw"
   },
   "outputs": [],
   "source": [
    "df1 = races.join(results, \"race_id\", \"inner\")"
   ]
  },
  {
   "cell_type": "code",
   "execution_count": 17,
   "metadata": {
    "executionInfo": {
     "elapsed": 50,
     "status": "ok",
     "timestamp": 1738912823627,
     "user": {
      "displayName": "Shruti Bhabad",
      "userId": "01974618232617039234"
     },
     "user_tz": -330
    },
    "id": "heuvuXAOXXJw"
   },
   "outputs": [],
   "source": [
    "df2 = df1.join(qualifying, [\"race_id\", \"driver_id\", \"constructor_id\"], \"inner\")"
   ]
  },
  {
   "cell_type": "code",
   "execution_count": 18,
   "metadata": {
    "executionInfo": {
     "elapsed": 92,
     "status": "ok",
     "timestamp": 1738912823706,
     "user": {
      "displayName": "Shruti Bhabad",
      "userId": "01974618232617039234"
     },
     "user_tz": -330
    },
    "id": "V55pKlGFXXJw"
   },
   "outputs": [],
   "source": [
    "df3 = df2.join(drivers, \"driver_id\", \"inner\")"
   ]
  },
  {
   "cell_type": "code",
   "execution_count": 19,
   "metadata": {
    "executionInfo": {
     "elapsed": 59,
     "status": "ok",
     "timestamp": 1738912823771,
     "user": {
      "displayName": "Shruti Bhabad",
      "userId": "01974618232617039234"
     },
     "user_tz": -330
    },
    "id": "fq5gHdAxXXJw"
   },
   "outputs": [],
   "source": [
    "df4 = df3.join(constructors, \"constructor_id\", \"inner\")"
   ]
  },
  {
   "cell_type": "code",
   "execution_count": 20,
   "metadata": {
    "executionInfo": {
     "elapsed": 118,
     "status": "ok",
     "timestamp": 1738912823890,
     "user": {
      "displayName": "Shruti Bhabad",
      "userId": "01974618232617039234"
     },
     "user_tz": -330
    },
    "id": "_pfWZ2ndXXJw"
   },
   "outputs": [],
   "source": [
    "df5 = df4.join(circuits, \"circuit_id\", \"inner\")"
   ]
  },
  {
   "cell_type": "code",
   "execution_count": 21,
   "metadata": {
    "colab": {
     "base_uri": "https://localhost:8080/"
    },
    "executionInfo": {
     "elapsed": 58,
     "status": "ok",
     "timestamp": 1738912823949,
     "user": {
      "displayName": "Shruti Bhabad",
      "userId": "01974618232617039234"
     },
     "user_tz": -330
    },
    "id": "nn4UzWT-XXJw",
    "outputId": "d04b2fa4-be29-4af2-af75-25e43f3a2033"
   },
   "outputs": [
    {
     "data": {
      "text/plain": [
       "['circuit_id',\n",
       " 'constructor_id',\n",
       " 'driver_id',\n",
       " 'race_id',\n",
       " 'year',\n",
       " 'round',\n",
       " 'race_name',\n",
       " 'date',\n",
       " 'race_time',\n",
       " 'race_url',\n",
       " 'result_id',\n",
       " 'results_number',\n",
       " 'grid',\n",
       " 'result_position',\n",
       " 'positionText',\n",
       " 'positionOrder',\n",
       " 'points',\n",
       " 'laps',\n",
       " 'results_time',\n",
       " 'milliseconds',\n",
       " 'fastestLap',\n",
       " 'rank',\n",
       " 'fastestLapTime',\n",
       " 'fastestLapSpeed',\n",
       " 'status_id',\n",
       " 'qualifyId',\n",
       " 'qualifying_number',\n",
       " 'qualifying_position',\n",
       " 'q1',\n",
       " 'q2',\n",
       " 'q3',\n",
       " 'driver_ref',\n",
       " 'driver_number',\n",
       " 'code',\n",
       " 'forename',\n",
       " 'surname',\n",
       " 'dob',\n",
       " 'driver_nationality',\n",
       " 'driver_url',\n",
       " 'constructor_ref',\n",
       " 'constructor_name',\n",
       " 'constructor_nationality',\n",
       " 'constructor_url',\n",
       " 'circuit_ref',\n",
       " 'circuit_name',\n",
       " 'circuit_location',\n",
       " 'circuit_country',\n",
       " 'lat',\n",
       " 'lng',\n",
       " 'alt',\n",
       " 'circuit_url']"
      ]
     },
     "execution_count": 21,
     "metadata": {},
     "output_type": "execute_result"
    }
   ],
   "source": [
    "df5.columns"
   ]
  },
  {
   "cell_type": "markdown",
   "metadata": {
    "id": "8hIf-MDWXXJw"
   },
   "source": [
    "## Select necessary columns"
   ]
  },
  {
   "cell_type": "code",
   "execution_count": 22,
   "metadata": {
    "executionInfo": {
     "elapsed": 81,
     "status": "ok",
     "timestamp": 1738912824029,
     "user": {
      "displayName": "Shruti Bhabad",
      "userId": "01974618232617039234"
     },
     "user_tz": -330
    },
    "id": "npumy2q1XXJw"
   },
   "outputs": [],
   "source": [
    "data = df5.select(['year', 'date', 'grid', 'status_id', 'qualifying_position', 'forename', 'surname', 'dob', 'driver_nationality', 'constructor_name', 'constructor_nationality', 'race_name', 'circuit_country'])"
   ]
  },
  {
   "cell_type": "code",
   "execution_count": 23,
   "metadata": {
    "colab": {
     "base_uri": "https://localhost:8080/"
    },
    "executionInfo": {
     "elapsed": 35,
     "status": "ok",
     "timestamp": 1738912824073,
     "user": {
      "displayName": "Shruti Bhabad",
      "userId": "01974618232617039234"
     },
     "user_tz": -330
    },
    "id": "uTfdwiT1XXJx",
    "outputId": "013e6b6d-cc43-4d73-ba54-f43a139465cb"
   },
   "outputs": [
    {
     "data": {
      "text/plain": [
       "['year',\n",
       " 'date',\n",
       " 'grid',\n",
       " 'status_id',\n",
       " 'qualifying_position',\n",
       " 'forename',\n",
       " 'surname',\n",
       " 'dob',\n",
       " 'driver_nationality',\n",
       " 'constructor_name',\n",
       " 'constructor_nationality',\n",
       " 'race_name',\n",
       " 'circuit_country']"
      ]
     },
     "execution_count": 23,
     "metadata": {},
     "output_type": "execute_result"
    }
   ],
   "source": [
    "data.columns"
   ]
  },
  {
   "cell_type": "markdown",
   "metadata": {
    "id": "UTpwGlhEXXJx"
   },
   "source": [
    "## F1 Grand Prix structure\n",
    "\n",
    "a F1 GP runs for 3 days in the weeekend and is made of 3 parts Practice session, Qualify scession and the actual Race.\n",
    "\n",
    "In the practice sesssion there are 3 stages FP1, FP2 and FP3 this is a free practice scession for teams to test their cars on Friday and saturday.\n",
    "Qualification session is also made of 3 stages Q1, Q2 and Q3 in this session all drivers compete to set the best lap time and bottom 5 drivers will be eliminated after Q1. top 15 drivers will participate in the Q2 and try to set best lap time and top 10 drivers will move to Q1 where they again set best best lap time they can and the cars position at the start of the race will be decided based on their qualifying time driver with best time will get to start at the front.\n",
    "Sunday scession is the Race and points will be awarded to top 10 drivers and top three will get to enjoy podium.\n",
    "This happens for a full season for a whole year at diffrent circuits and driver with the highest points will be awarded World championship and team with highest points will get Constructorschampionship(each team have two cars and two drivers)"
   ]
  },
  {
   "cell_type": "code",
   "execution_count": 24,
   "metadata": {
    "executionInfo": {
     "elapsed": 83,
     "status": "ok",
     "timestamp": 1738912824155,
     "user": {
      "displayName": "Shruti Bhabad",
      "userId": "01974618232617039234"
     },
     "user_tz": -330
    },
    "id": "I6M-OQCgXXJx"
   },
   "outputs": [],
   "source": [
    "#considering data points from 2010\n",
    "data = data[data['year']>=2010]"
   ]
  },
  {
   "cell_type": "code",
   "execution_count": 25,
   "metadata": {
    "executionInfo": {
     "elapsed": 323,
     "status": "ok",
     "timestamp": 1738912824478,
     "user": {
      "displayName": "Shruti Bhabad",
      "userId": "01974618232617039234"
     },
     "user_tz": -330
    },
    "id": "GTaxzB6GXXJx"
   },
   "outputs": [],
   "source": [
    "#rename the columns\n",
    "data = data.withColumnRenamed(\"race_name\", \"GP_name\").withColumnRenamed(\"circuit_country\", \"country\").withColumnRenamed(\"qualifying_position\", \"position\").withColumnRenamed(\"grid\", \"quali_pos\").withColumnRenamed(\"constructor_name\", \"constructor\").withColumn(\"date\", to_date(col(\"date\"))).withColumn(\"dob\", to_date(col(\"dob\"))).withColumn(\"driver\", concat(col(\"forename\"), lit(\" \"), col(\"surname\")))"
   ]
  },
  {
   "cell_type": "code",
   "execution_count": 26,
   "metadata": {
    "executionInfo": {
     "elapsed": 92,
     "status": "ok",
     "timestamp": 1738912824571,
     "user": {
      "displayName": "Shruti Bhabad",
      "userId": "01974618232617039234"
     },
     "user_tz": -330
    },
    "id": "_yvhxPS4XXJx"
   },
   "outputs": [],
   "source": [
    "# Creating driver age parameter\n",
    "data = data.withColumn(\"age_at_gp_in_days\", datediff(col(\"date\"), col(\"dob\")))\n",
    "data = data.withColumn(\"age_at_gp_in_days\", expr(\"CAST(age_at_gp_in_days AS STRING)\"))"
   ]
  },
  {
   "cell_type": "code",
   "execution_count": 27,
   "metadata": {
    "executionInfo": {
     "elapsed": 100,
     "status": "ok",
     "timestamp": 1738912824674,
     "user": {
      "displayName": "Shruti Bhabad",
      "userId": "01974618232617039234"
     },
     "user_tz": -330
    },
    "id": "bOp2j2ZkXXJy"
   },
   "outputs": [],
   "source": [
    "data = data.withColumn(\"constructor\", when(col(\"constructor\") == \"Force India\", \"Racing Point\")\n",
    "                                   .when(col(\"constructor\") == \"Sauber\", \"Alfa Romeo\")\n",
    "                                   .when(col(\"constructor\") == \"Lotus F1\", \"Renault\")\n",
    "                                   .when(col(\"constructor\") == \"Toro Rosso\", \"AlphaTauri\")\n",
    "                                   .otherwise(col(\"constructor\")))"
   ]
  },
  {
   "cell_type": "code",
   "execution_count": 28,
   "metadata": {
    "executionInfo": {
     "elapsed": 273,
     "status": "ok",
     "timestamp": 1738912824948,
     "user": {
      "displayName": "Shruti Bhabad",
      "userId": "01974618232617039234"
     },
     "user_tz": -330
    },
    "id": "mLT_T-NoXXJy"
   },
   "outputs": [],
   "source": [
    "data = data.withColumn('driver_nationality', data['driver_nationality'].substr(1, 3))\n",
    "data = data.withColumn('constructor_nationality', data['constructor_nationality'].substr(1, 3))\n",
    "data = data.withColumn('country', when(data['country'] == 'UK', 'Bri').otherwise(data['country']))\n",
    "data = data.withColumn('country', when(data['country'] == 'USA', 'Ame').otherwise(data['country']))\n",
    "data = data.withColumn('country', when(data['country'] == 'Fra', 'Fre').otherwise(data['country']))\n",
    "data = data.withColumn('country', data['country'].substr(1, 3))\n",
    "data = data.withColumn('driver_home', (data['driver_nationality'] == data['country']).cast(\"int\"))\n",
    "data = data.withColumn('constructor_home', (data['constructor_nationality'] == data['country']).cast(\"int\"))"
   ]
  },
  {
   "cell_type": "code",
   "execution_count": 29,
   "metadata": {
    "executionInfo": {
     "elapsed": 376,
     "status": "ok",
     "timestamp": 1738912825326,
     "user": {
      "displayName": "Shruti Bhabad",
      "userId": "01974618232617039234"
     },
     "user_tz": -330
    },
    "id": "jqqEJRZrXXJ0"
   },
   "outputs": [],
   "source": [
    "dnf_statuses = [3, 4, 20, 29, 31, 41, 68, 73, 81, 97, 82, 104, 107, 130, 137]\n",
    "data = data.withColumn('driver_dnf', when(col('status_id').isin(dnf_statuses), 1).otherwise(0))\n",
    "data = data.withColumn('constructor_dnf', when(~col('status_id').isin(dnf_statuses + [1]), 1).otherwise(0))\n",
    "data = data.drop('forename', 'surname')"
   ]
  },
  {
   "cell_type": "code",
   "execution_count": 29,
   "metadata": {
    "executionInfo": {
     "elapsed": 1,
     "status": "ok",
     "timestamp": 1738912825328,
     "user": {
      "displayName": "Shruti Bhabad",
      "userId": "01974618232617039234"
     },
     "user_tz": -330
    },
    "id": "FLQvrN4lXXJ0"
   },
   "outputs": [],
   "source": []
  },
  {
   "cell_type": "code",
   "execution_count": 30,
   "metadata": {
    "executionInfo": {
     "elapsed": 10212,
     "status": "ok",
     "timestamp": 1738912835540,
     "user": {
      "displayName": "Shruti Bhabad",
      "userId": "01974618232617039234"
     },
     "user_tz": -330
    },
    "id": "Tp44fXAJXXJ0"
   },
   "outputs": [],
   "source": [
    "# Calculate DNF count by driver\n",
    "dnf_by_driver = data.groupBy('driver').agg({'driver_dnf': 'sum'})\n",
    "\n",
    "# Calculate race entered count by driver\n",
    "driver_race_entered = data.groupBy('driver').count()\n",
    "\n",
    "# Join the two calculated DataFrames\n",
    "driver_stats = dnf_by_driver.join(driver_race_entered, 'driver')\n",
    "\n",
    "# Calculate DNF ratio and driver confidence\n",
    "driver_stats = driver_stats.withColumn('driver_dnf_ratio', driver_stats['sum(driver_dnf)'] / driver_stats['count'])\n",
    "driver_stats = driver_stats.withColumn('driver_confidence', 1 - driver_stats['driver_dnf_ratio'])\n",
    "\n",
    "# Select necessary columns and convert to a Pandas DataFrame for creating the dictionary\n",
    "driver_confidence_dict = driver_stats.select('driver', 'driver_confidence').rdd.collectAsMap()"
   ]
  },
  {
   "cell_type": "code",
   "execution_count": 31,
   "metadata": {
    "executionInfo": {
     "elapsed": 3991,
     "status": "ok",
     "timestamp": 1738912839534,
     "user": {
      "displayName": "Shruti Bhabad",
      "userId": "01974618232617039234"
     },
     "user_tz": -330
    },
    "id": "xHa2W3OoXXJ6"
   },
   "outputs": [],
   "source": [
    "# Calculate DNF count by constructor\n",
    "dnf_by_constructor = data.groupBy('constructor').agg({'constructor_dnf': 'sum'})\n",
    "\n",
    "# Calculate race entered count by constructor\n",
    "constructor_race_entered = data.groupBy('constructor').count()\n",
    "\n",
    "# Join the two calculated DataFrames\n",
    "constructor_stats = dnf_by_constructor.join(constructor_race_entered, 'constructor')\n",
    "\n",
    "# Calculate DNF ratio and constructor reliability\n",
    "constructor_stats = constructor_stats.withColumn('constructor_dnf_ratio', constructor_stats['sum(constructor_dnf)'] / constructor_stats['count'])\n",
    "constructor_stats = constructor_stats.withColumn('constructor_reliability', 1 - constructor_stats['constructor_dnf_ratio'])\n",
    "\n",
    "# Select necessary columns and convert to a Pandas DataFrame for creating the dictionary\n",
    "constructor_reliability_dict = constructor_stats.select('constructor', 'constructor_reliability').rdd.collectAsMap()"
   ]
  },
  {
   "cell_type": "code",
   "execution_count": 32,
   "metadata": {
    "executionInfo": {
     "elapsed": 701,
     "status": "ok",
     "timestamp": 1738912840244,
     "user": {
      "displayName": "Shruti Bhabad",
      "userId": "01974618232617039234"
     },
     "user_tz": -330
    },
    "id": "HqA03fHWXXJ7"
   },
   "outputs": [],
   "source": [
    "# Create a DataFrame for driver confidence and constructor reliability dictionaries\n",
    "driver_confidence_df = spark.createDataFrame(driver_confidence_dict.items(), [\"driver\", \"driver_confidence\"])\n",
    "constructor_reliability_df = spark.createDataFrame(constructor_reliability_dict.items(), [\"constructor\", \"constructor_reliability\"])\n",
    "\n",
    "# Adding 'driver_confidence' column\n",
    "data = data.join(driver_confidence_df, on='driver', how='left')\n",
    "\n",
    "# Adding 'constructor_reliability' column\n",
    "data = data.join(constructor_reliability_df, on='constructor', how='left')"
   ]
  },
  {
   "cell_type": "code",
   "execution_count": 33,
   "metadata": {
    "executionInfo": {
     "elapsed": 182,
     "status": "ok",
     "timestamp": 1738912840435,
     "user": {
      "displayName": "Shruti Bhabad",
      "userId": "01974618232617039234"
     },
     "user_tz": -330
    },
    "id": "0qgoCt6lXXJ7"
   },
   "outputs": [],
   "source": [
    "# Lists of active constructors and drivers\n",
    "active_constructors = ['Renault', 'Williams', 'McLaren', 'Ferrari', 'Mercedes',\n",
    "                       'AlphaTauri', 'Racing Point', 'Alfa Romeo', 'Red Bull',\n",
    "                       'Haas F1 Team']\n",
    "active_drivers = ['Daniel Ricciardo', 'Kevin Magnussen', 'Carlos Sainz',\n",
    "                  'Valtteri Bottas', 'Lance Stroll', 'George Russell',\n",
    "                  'Lando Norris', 'Sebastian Vettel', 'Kimi Räikkönen',\n",
    "                  'Charles Leclerc', 'Lewis Hamilton', 'Daniil Kvyat',\n",
    "                  'Max Verstappen', 'Pierre Gasly', 'Alexander Albon',\n",
    "                  'Sergio Pérez', 'Esteban Ocon', 'Antonio Giovinazzi',\n",
    "                  'Romain Grosjean', 'Nicholas Latifi']\n",
    "\n",
    "# Adding 'active_driver' column\n",
    "data = data.withColumn(\"active_driver\", when(col(\"driver\").isin(active_drivers), 1).otherwise(0))\n",
    "\n",
    "# Adding 'active_constructor' column\n",
    "data = data.withColumn(\"active_constructor\", when(col(\"constructor\").isin(active_constructors), 1).otherwise(0))"
   ]
  },
  {
   "cell_type": "code",
   "execution_count": 34,
   "metadata": {
    "colab": {
     "base_uri": "https://localhost:8080/"
    },
    "executionInfo": {
     "elapsed": 14,
     "status": "ok",
     "timestamp": 1738912840490,
     "user": {
      "displayName": "Shruti Bhabad",
      "userId": "01974618232617039234"
     },
     "user_tz": -330
    },
    "id": "TVwI1VW8XXJ8",
    "outputId": "12d9b572-962b-4f17-9e37-a0a8dfe39a2b"
   },
   "outputs": [
    {
     "data": {
      "text/plain": [
       "['constructor',\n",
       " 'driver',\n",
       " 'year',\n",
       " 'date',\n",
       " 'quali_pos',\n",
       " 'status_id',\n",
       " 'position',\n",
       " 'dob',\n",
       " 'driver_nationality',\n",
       " 'constructor_nationality',\n",
       " 'GP_name',\n",
       " 'country',\n",
       " 'age_at_gp_in_days',\n",
       " 'driver_home',\n",
       " 'constructor_home',\n",
       " 'driver_dnf',\n",
       " 'constructor_dnf',\n",
       " 'driver_confidence',\n",
       " 'constructor_reliability',\n",
       " 'active_driver',\n",
       " 'active_constructor']"
      ]
     },
     "execution_count": 34,
     "metadata": {},
     "output_type": "execute_result"
    }
   ],
   "source": [
    "data.columns"
   ]
  },
  {
   "cell_type": "code",
   "execution_count": 48,
   "metadata": {
    "colab": {
     "base_uri": "https://localhost:8080/"
    },
    "executionInfo": {
     "elapsed": 3152,
     "status": "ok",
     "timestamp": 1738913660638,
     "user": {
      "displayName": "Shruti Bhabad",
      "userId": "01974618232617039234"
     },
     "user_tz": -330
    },
    "id": "tcB3WoJdU5gZ",
    "outputId": "76641985-a265-4bfb-933f-1b320c12d48b"
   },
   "outputs": [
    {
     "name": "stdout",
     "output_type": "stream",
     "text": [
      "CSV file saved as /content/drive/MyDrive/DBDA_PROJECT/Formula1DataAnalytics-main/Main/data/main_data/dataframe.csv\n"
     ]
    }
   ],
   "source": [
    "import shutil\n",
    "import glob\n",
    "\n",
    "# Define the output directory (Must be a subdirectory!)\n",
    "output_dir = \"/content/drive/MyDrive/DBDA_PROJECT/Formula1DataAnalytics-main/Main/data/main_data\"\n",
    "\n",
    "# Write the CSV file\n",
    "data.coalesce(1).write.mode(\"overwrite\").csv(output_dir, header=True)\n",
    "\n",
    "# Find the generated part file (Spark doesn't allow setting file names directly)\n",
    "csv_file = glob.glob(f\"{output_dir}/part-*.csv\")[0]  # Find the first matching part file\n",
    "\n",
    "# Define the final output file path\n",
    "final_output_path = \"/content/drive/MyDrive/DBDA_PROJECT/Formula1DataAnalytics-main/Main/data/main_data/dataframe.csv\"\n",
    "\n",
    "# Rename the file\n",
    "shutil.move(csv_file, final_output_path)\n",
    "\n",
    "print(f\"CSV file saved as {final_output_path}\")\n"
   ]
  }
 ],
 "metadata": {
  "colab": {
   "provenance": []
  },
  "kernelspec": {
   "display_name": "Python 3",
   "language": "python",
   "name": "python3"
  },
  "language_info": {
   "codemirror_mode": {
    "name": "ipython",
    "version": 3
   },
   "file_extension": ".py",
   "mimetype": "text/x-python",
   "name": "python",
   "nbconvert_exporter": "python",
   "pygments_lexer": "ipython3",
   "version": "3.6.9"
  }
 },
 "nbformat": 4,
 "nbformat_minor": 0
}
